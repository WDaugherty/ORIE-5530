{
 "cells": [
  {
   "cell_type": "markdown",
   "metadata": {},
   "source": [
    "# Utilities and Imports"
   ]
  },
  {
   "cell_type": "code",
   "execution_count": 9,
   "metadata": {},
   "outputs": [
    {
     "name": "stderr",
     "output_type": "stream",
     "text": [
      "/var/folders/87/6bfjhdg13952r0hbf93s28b40000gn/T/ipykernel_4612/3829226322.py:7: DtypeWarning: Columns (5,7) have mixed types. Specify dtype option on import or set low_memory=False.\n",
      "  df = pd.read_csv(\"/Users/wdaugherty/ORIE-5530/ORIE-5530/Project/202207-citbike-tripdata.csv\", delimiter=\",\") #Load in the data\n"
     ]
    }
   ],
   "source": [
    "import numpy as np #Mathematical Operations\n",
    "import matplotlib.pyplot as pl #Visualizations\n",
    "import pandas as pd #Dataframe manipulation\n",
    "from datetime import datetime as dt#Datatime manipulation\n",
    "\n",
    "\n",
    "df = pd.read_csv(\"/Users/wdaugherty/ORIE-5530/ORIE-5530/Project/202207-citbike-tripdata.csv\", delimiter=\",\") #Load in the data"
   ]
  },
  {
   "cell_type": "markdown",
   "metadata": {},
   "source": [
    "# Warmup "
   ]
  },
  {
   "cell_type": "markdown",
   "metadata": {},
   "source": [
    "## Data Descriptions "
   ]
  },
  {
   "cell_type": "code",
   "execution_count": 10,
   "metadata": {},
   "outputs": [
    {
     "data": {
      "text/html": [
       "<div>\n",
       "<style scoped>\n",
       "    .dataframe tbody tr th:only-of-type {\n",
       "        vertical-align: middle;\n",
       "    }\n",
       "\n",
       "    .dataframe tbody tr th {\n",
       "        vertical-align: top;\n",
       "    }\n",
       "\n",
       "    .dataframe thead th {\n",
       "        text-align: right;\n",
       "    }\n",
       "</style>\n",
       "<table border=\"1\" class=\"dataframe\">\n",
       "  <thead>\n",
       "    <tr style=\"text-align: right;\">\n",
       "      <th></th>\n",
       "      <th>ride_id</th>\n",
       "      <th>rideable_type</th>\n",
       "      <th>started_at</th>\n",
       "      <th>ended_at</th>\n",
       "      <th>start_station_name</th>\n",
       "      <th>start_station_id</th>\n",
       "      <th>end_station_name</th>\n",
       "      <th>end_station_id</th>\n",
       "      <th>start_lat</th>\n",
       "      <th>start_lng</th>\n",
       "      <th>end_lat</th>\n",
       "      <th>end_lng</th>\n",
       "      <th>member_casual</th>\n",
       "    </tr>\n",
       "  </thead>\n",
       "  <tbody>\n",
       "    <tr>\n",
       "      <th>0</th>\n",
       "      <td>C09E4093905089BD</td>\n",
       "      <td>classic_bike</td>\n",
       "      <td>2022-07-23 11:34:57</td>\n",
       "      <td>2022-07-23 11:45:08</td>\n",
       "      <td>Melrose St &amp; Broadway</td>\n",
       "      <td>4801.04</td>\n",
       "      <td>Myrtle Ave &amp; Grove St</td>\n",
       "      <td>4816.05</td>\n",
       "      <td>40.697481</td>\n",
       "      <td>-73.935877</td>\n",
       "      <td>40.699050</td>\n",
       "      <td>-73.915160</td>\n",
       "      <td>member</td>\n",
       "    </tr>\n",
       "    <tr>\n",
       "      <th>1</th>\n",
       "      <td>374630DB5822C392</td>\n",
       "      <td>electric_bike</td>\n",
       "      <td>2022-07-29 18:19:08</td>\n",
       "      <td>2022-07-29 18:26:50</td>\n",
       "      <td>E 68 St &amp; 3 Ave</td>\n",
       "      <td>6896.16</td>\n",
       "      <td>E 85 St &amp; York Ave</td>\n",
       "      <td>7146.04</td>\n",
       "      <td>40.767128</td>\n",
       "      <td>-73.962246</td>\n",
       "      <td>40.775369</td>\n",
       "      <td>-73.948034</td>\n",
       "      <td>member</td>\n",
       "    </tr>\n",
       "    <tr>\n",
       "      <th>2</th>\n",
       "      <td>4F73CA25880A1215</td>\n",
       "      <td>electric_bike</td>\n",
       "      <td>2022-07-16 16:30:58</td>\n",
       "      <td>2022-07-16 17:39:18</td>\n",
       "      <td>W 37 St &amp; 10 Ave</td>\n",
       "      <td>6611.02</td>\n",
       "      <td>Knickerbocker Ave &amp; Cooper St</td>\n",
       "      <td>4582.05</td>\n",
       "      <td>40.756604</td>\n",
       "      <td>-73.997901</td>\n",
       "      <td>40.690810</td>\n",
       "      <td>-73.904480</td>\n",
       "      <td>member</td>\n",
       "    </tr>\n",
       "    <tr>\n",
       "      <th>3</th>\n",
       "      <td>ECD6EE19C0CC1D31</td>\n",
       "      <td>electric_bike</td>\n",
       "      <td>2022-07-17 17:35:57</td>\n",
       "      <td>2022-07-17 18:03:36</td>\n",
       "      <td>W 37 St &amp; 10 Ave</td>\n",
       "      <td>6611.02</td>\n",
       "      <td>6 Ave &amp; Broome St</td>\n",
       "      <td>5610.09</td>\n",
       "      <td>40.756604</td>\n",
       "      <td>-73.997901</td>\n",
       "      <td>40.724310</td>\n",
       "      <td>-74.004730</td>\n",
       "      <td>member</td>\n",
       "    </tr>\n",
       "    <tr>\n",
       "      <th>4</th>\n",
       "      <td>44D0987673B9997D</td>\n",
       "      <td>classic_bike</td>\n",
       "      <td>2022-07-11 07:56:29</td>\n",
       "      <td>2022-07-11 07:59:15</td>\n",
       "      <td>E 68 St &amp; 3 Ave</td>\n",
       "      <td>6896.16</td>\n",
       "      <td>E 66 St &amp; Madison Ave</td>\n",
       "      <td>6969.08</td>\n",
       "      <td>40.767128</td>\n",
       "      <td>-73.962246</td>\n",
       "      <td>40.768009</td>\n",
       "      <td>-73.968453</td>\n",
       "      <td>member</td>\n",
       "    </tr>\n",
       "  </tbody>\n",
       "</table>\n",
       "</div>"
      ],
      "text/plain": [
       "            ride_id  rideable_type           started_at             ended_at  \\\n",
       "0  C09E4093905089BD   classic_bike  2022-07-23 11:34:57  2022-07-23 11:45:08   \n",
       "1  374630DB5822C392  electric_bike  2022-07-29 18:19:08  2022-07-29 18:26:50   \n",
       "2  4F73CA25880A1215  electric_bike  2022-07-16 16:30:58  2022-07-16 17:39:18   \n",
       "3  ECD6EE19C0CC1D31  electric_bike  2022-07-17 17:35:57  2022-07-17 18:03:36   \n",
       "4  44D0987673B9997D   classic_bike  2022-07-11 07:56:29  2022-07-11 07:59:15   \n",
       "\n",
       "      start_station_name start_station_id               end_station_name  \\\n",
       "0  Melrose St & Broadway          4801.04          Myrtle Ave & Grove St   \n",
       "1        E 68 St & 3 Ave          6896.16             E 85 St & York Ave   \n",
       "2       W 37 St & 10 Ave          6611.02  Knickerbocker Ave & Cooper St   \n",
       "3       W 37 St & 10 Ave          6611.02              6 Ave & Broome St   \n",
       "4        E 68 St & 3 Ave          6896.16          E 66 St & Madison Ave   \n",
       "\n",
       "  end_station_id  start_lat  start_lng    end_lat    end_lng member_casual  \n",
       "0        4816.05  40.697481 -73.935877  40.699050 -73.915160        member  \n",
       "1        7146.04  40.767128 -73.962246  40.775369 -73.948034        member  \n",
       "2        4582.05  40.756604 -73.997901  40.690810 -73.904480        member  \n",
       "3        5610.09  40.756604 -73.997901  40.724310 -74.004730        member  \n",
       "4        6969.08  40.767128 -73.962246  40.768009 -73.968453        member  "
      ]
     },
     "execution_count": 10,
     "metadata": {},
     "output_type": "execute_result"
    }
   ],
   "source": [
    "#Data Descriptions \n",
    "df.head()"
   ]
  },
  {
   "cell_type": "code",
   "execution_count": 14,
   "metadata": {},
   "outputs": [],
   "source": [
    "#Print times based on duration \n",
    "durations = []\n",
    "for index, row in df.iterrows():\n",
    "    start = dt.strptime((row[\"started_at\"]), \"%Y-%m-%d %H:%M:%S\")\n",
    "    end = dt.strptime((row[\"ended_at\"]), \"%Y-%m-%d %H:%M:%S\")\n",
    "    durations.append((end-start).total_seconds() / 60)\n",
    "    \n",
    "    #if len(durations) % 200000 == 0:\n",
    "     #   print(len(durations))"
   ]
  },
  {
   "cell_type": "markdown",
   "metadata": {},
   "source": [
    "## Part 1"
   ]
  },
  {
   "cell_type": "code",
   "execution_count": 24,
   "metadata": {},
   "outputs": [],
   "source": [
    "#Filter for duration \n",
    "df['duration'] = durations\n",
    "durations_df=df[df['duration']<=180]\n",
    "durations_df = durations_df[durations_df['duration']>=0]"
   ]
  },
  {
   "cell_type": "code",
   "execution_count": 25,
   "metadata": {},
   "outputs": [
    {
     "data": {
      "text/plain": [
       "Text(0.5, 1.0, 'Trip Duration vs. Frequency')"
      ]
     },
     "execution_count": 25,
     "metadata": {},
     "output_type": "execute_result"
    },
    {
     "data": {
      "image/png": "[encoded data removed]",
      "text/plain": [
       "<Figure size 432x288 with 1 Axes>"
      ]
     },
     "metadata": {
      "needs_background": "light"
     },
     "output_type": "display_data"
    }
   ],
   "source": [
    "#Plots the data \n",
    "pl.hist(durations_df['duration'], bins=20)\n",
    "pl.xlabel(\"Trip Duration\")\n",
    "pl.ylabel(\"Frequency\")\n",
    "pl.title(\"Trip Duration vs. Frequency\")"
   ]
  },
  {
   "cell_type": "markdown",
   "metadata": {},
   "source": [
    "## Part 2"
   ]
  },
  {
   "cell_type": "code",
   "execution_count": 17,
   "metadata": {},
   "outputs": [
    {
     "name": "stdout",
     "output_type": "stream",
     "text": [
      "Expected ride duration is  14.993813519267052 minutes\n"
     ]
    }
   ],
   "source": [
    "mean_duration=durations_df['duration'].mean()\n",
    "print(\"Expected ride duration is \", mean_duration, \"minutes\")"
   ]
  },
  {
   "cell_type": "code",
   "execution_count": 18,
   "metadata": {},
   "outputs": [
    {
     "name": "stdout",
     "output_type": "stream",
     "text": [
      "variance of ride duration is  232.8328785622765 minutes\n"
     ]
    }
   ],
   "source": [
    "var_duration= durations_df['duration'].var()\n",
    "print(\"variance of ride duration is \", var_duration, \"minutes\")"
   ]
  },
  {
   "cell_type": "code",
   "execution_count": 40,
   "metadata": {},
   "outputs": [
    {
     "name": "stdout",
     "output_type": "stream",
     "text": [
      "The probability that the duration of the trip is greater than 20 minutes is  0.2327215395657151\n"
     ]
    }
   ],
   "source": [
    "prob= len(durations_df[durations_df['duration']>20])/len(durations_df['duration'])\n",
    "print(\"The probability that the duration of the trip is greater than 20 minutes is \", prob)"
   ]
  },
  {
   "cell_type": "markdown",
   "metadata": {},
   "source": [
    "## Part 3"
   ]
  },
  {
   "cell_type": "code",
   "execution_count": 20,
   "metadata": {},
   "outputs": [
    {
     "name": "stdout",
     "output_type": "stream",
     "text": [
      "The probability that the duration of the trip is greater than 20 minutes given that the rider is a member is  0.18609139832749863\n"
     ]
    }
   ],
   "source": [
    "member= durations_df[durations_df['member_casual']=='member']\n",
    "prob_member= len(member[member['duration']>20])/len(member)\n",
    "print(\"The probability that the duration of the trip is greater than 20 minutes given that the rider is a member is \", prob_member)"
   ]
  },
  {
   "cell_type": "markdown",
   "metadata": {},
   "source": [
    "## Part 4"
   ]
  },
  {
   "cell_type": "code",
   "execution_count": 21,
   "metadata": {},
   "outputs": [
    {
     "data": {
      "text/plain": [
       "0.5839272451304628"
      ]
     },
     "execution_count": 21,
     "metadata": {},
     "output_type": "execute_result"
    }
   ],
   "source": [
    "prob_25_member= len(member[member['duration']>25])/len(member)\n",
    "prob_member= len(member)/len(durations_df)\n",
    "prob_25= len(durations_df[durations_df['duration']>25])/len(durations_df['duration'])\n",
    "prob_member_given_ride_greater25= (prob_25_member*prob_member)/prob_25\n",
    "prob_member_given_ride_greater25"
   ]
  },
  {
   "cell_type": "markdown",
   "metadata": {},
   "source": [
    "## Part 5"
   ]
  },
  {
   "cell_type": "code",
   "execution_count": 45,
   "metadata": {},
   "outputs": [
    {
     "name": "stdout",
     "output_type": "stream",
     "text": [
      "Expected ride duration is  18.378049011202773 minutes\n"
     ]
    }
   ],
   "source": [
    "#Expected Value of Electric Bike\n",
    "classic = df.groupby(df['rideable_type']).get_group('electric_bike')\n",
    "mean_duration= classic['duration'].mean()\n",
    "print(\"Expected ride duration is \", mean_duration, \"minutes\")"
   ]
  },
  {
   "cell_type": "code",
   "execution_count": 46,
   "metadata": {},
   "outputs": [
    {
     "name": "stdout",
     "output_type": "stream",
     "text": [
      "Expected ride duration is  17.406528374412954 minutes\n"
     ]
    }
   ],
   "source": [
    "#Expected Value of Classic Bike \n",
    "electric = df.groupby(df['rideable_type']).get_group('classic_bike')\n",
    "\n",
    "mean_duration= electric['duration'].mean()\n",
    "print(\"Expected ride duration is \", mean_duration, \"minutes\")"
   ]
  },
  {
   "cell_type": "markdown",
   "metadata": {},
   "source": [
    "## Part 6"
   ]
  },
  {
   "cell_type": "code",
   "execution_count": 47,
   "metadata": {},
   "outputs": [
    {
     "data": {
      "text/plain": [
       "0.7701967556006271"
      ]
     },
     "execution_count": 47,
     "metadata": {},
     "output_type": "execute_result"
    }
   ],
   "source": [
    "prob_10_ebike= len(electric[electric['duration']<10])/len(electric)\n",
    "prob_ebike= len(electric)/len(durations_df)\n",
    "prob_10= len(durations_df[durations_df['duration']<10])/len(durations_df['duration'])\n",
    "prob_ebike_less_10= (prob_10_ebike*prob_member)/prob_10\n",
    "prob_ebike_less_10"
   ]
  },
  {
   "cell_type": "code",
   "execution_count": 48,
   "metadata": {},
   "outputs": [
    {
     "data": {
      "text/plain": [
       "0.7493888466596276"
      ]
     },
     "execution_count": 48,
     "metadata": {},
     "output_type": "execute_result"
    }
   ],
   "source": [
    "prob_10_classic= len(classic[classic['duration']<10])/len(classic)\n",
    "prob_classic= len(classic)/len(durations_df)\n",
    "prob_10= len(durations_df[durations_df['duration']<10])/len(durations_df['duration'])\n",
    "prob_classic_less_10= (prob_10_classic*prob_member)/prob_10\n",
    "prob_classic_less_10"
   ]
  },
  {
   "cell_type": "markdown",
   "metadata": {},
   "source": [
    "# Markov Chains"
   ]
  },
  {
   "cell_type": "code",
   "execution_count": 28,
   "metadata": {},
   "outputs": [
    {
     "data": {
      "text/html": [
       "<div>\n",
       "<style scoped>\n",
       "    .dataframe tbody tr th:only-of-type {\n",
       "        vertical-align: middle;\n",
       "    }\n",
       "\n",
       "    .dataframe tbody tr th {\n",
       "        vertical-align: top;\n",
       "    }\n",
       "\n",
       "    .dataframe thead th {\n",
       "        text-align: right;\n",
       "    }\n",
       "</style>\n",
       "<table border=\"1\" class=\"dataframe\">\n",
       "  <thead>\n",
       "    <tr style=\"text-align: right;\">\n",
       "      <th></th>\n",
       "      <th>ride_id</th>\n",
       "      <th>rideable_type</th>\n",
       "      <th>started_at</th>\n",
       "      <th>ended_at</th>\n",
       "      <th>start_station_name</th>\n",
       "      <th>start_station_id</th>\n",
       "      <th>end_station_name</th>\n",
       "      <th>end_station_id</th>\n",
       "      <th>start_lat</th>\n",
       "      <th>start_lng</th>\n",
       "      <th>end_lat</th>\n",
       "      <th>end_lng</th>\n",
       "      <th>member_casual</th>\n",
       "      <th>duration</th>\n",
       "    </tr>\n",
       "  </thead>\n",
       "  <tbody>\n",
       "    <tr>\n",
       "      <th>189136</th>\n",
       "      <td>12940E591FE8BD47</td>\n",
       "      <td>electric_bike</td>\n",
       "      <td>2022-07-04 13:51:01</td>\n",
       "      <td>2022-07-04 14:59:19</td>\n",
       "      <td>W 22 St &amp; 10 Ave</td>\n",
       "      <td>6306.06</td>\n",
       "      <td>7 Ave &amp; Central Park South</td>\n",
       "      <td>6912.01</td>\n",
       "      <td>40.746920</td>\n",
       "      <td>-74.004519</td>\n",
       "      <td>40.766741</td>\n",
       "      <td>-73.979069</td>\n",
       "      <td>casual</td>\n",
       "      <td>68.300000</td>\n",
       "    </tr>\n",
       "    <tr>\n",
       "      <th>189137</th>\n",
       "      <td>82371C2D1FF4DDAE</td>\n",
       "      <td>classic_bike</td>\n",
       "      <td>2022-07-02 17:10:07</td>\n",
       "      <td>2022-07-02 17:37:06</td>\n",
       "      <td>Washington Pl &amp; Broadway</td>\n",
       "      <td>5755.01</td>\n",
       "      <td>7 Ave &amp; Central Park South</td>\n",
       "      <td>6912.01</td>\n",
       "      <td>40.729039</td>\n",
       "      <td>-73.994046</td>\n",
       "      <td>40.766741</td>\n",
       "      <td>-73.979069</td>\n",
       "      <td>member</td>\n",
       "      <td>26.983333</td>\n",
       "    </tr>\n",
       "    <tr>\n",
       "      <th>189140</th>\n",
       "      <td>8DBC9374AD2F81A1</td>\n",
       "      <td>electric_bike</td>\n",
       "      <td>2022-07-28 13:38:29</td>\n",
       "      <td>2022-07-28 13:47:35</td>\n",
       "      <td>W 47 St &amp; 6 Ave</td>\n",
       "      <td>6667.04</td>\n",
       "      <td>7 Ave &amp; Central Park South</td>\n",
       "      <td>6912.01</td>\n",
       "      <td>40.758397</td>\n",
       "      <td>-73.982550</td>\n",
       "      <td>40.766741</td>\n",
       "      <td>-73.979069</td>\n",
       "      <td>member</td>\n",
       "      <td>9.100000</td>\n",
       "    </tr>\n",
       "    <tr>\n",
       "      <th>189146</th>\n",
       "      <td>9D0045DE7B3F189A</td>\n",
       "      <td>classic_bike</td>\n",
       "      <td>2022-07-26 07:58:39</td>\n",
       "      <td>2022-07-26 08:35:33</td>\n",
       "      <td>Hudson St &amp; Reade St</td>\n",
       "      <td>5359.1</td>\n",
       "      <td>7 Ave &amp; Central Park South</td>\n",
       "      <td>6912.01</td>\n",
       "      <td>40.716250</td>\n",
       "      <td>-74.009106</td>\n",
       "      <td>40.766741</td>\n",
       "      <td>-73.979069</td>\n",
       "      <td>member</td>\n",
       "      <td>36.900000</td>\n",
       "    </tr>\n",
       "    <tr>\n",
       "      <th>189147</th>\n",
       "      <td>065FDAA3C5613267</td>\n",
       "      <td>classic_bike</td>\n",
       "      <td>2022-07-12 17:37:35</td>\n",
       "      <td>2022-07-12 17:47:38</td>\n",
       "      <td>E 50 St &amp; Park Ave</td>\n",
       "      <td>6659.1</td>\n",
       "      <td>7 Ave &amp; Central Park South</td>\n",
       "      <td>6912.01</td>\n",
       "      <td>40.757334</td>\n",
       "      <td>-73.974235</td>\n",
       "      <td>40.766741</td>\n",
       "      <td>-73.979069</td>\n",
       "      <td>member</td>\n",
       "      <td>10.050000</td>\n",
       "    </tr>\n",
       "  </tbody>\n",
       "</table>\n",
       "</div>"
      ],
      "text/plain": [
       "                 ride_id  rideable_type           started_at  \\\n",
       "189136  12940E591FE8BD47  electric_bike  2022-07-04 13:51:01   \n",
       "189137  82371C2D1FF4DDAE   classic_bike  2022-07-02 17:10:07   \n",
       "189140  8DBC9374AD2F81A1  electric_bike  2022-07-28 13:38:29   \n",
       "189146  9D0045DE7B3F189A   classic_bike  2022-07-26 07:58:39   \n",
       "189147  065FDAA3C5613267   classic_bike  2022-07-12 17:37:35   \n",
       "\n",
       "                   ended_at        start_station_name start_station_id  \\\n",
       "189136  2022-07-04 14:59:19          W 22 St & 10 Ave          6306.06   \n",
       "189137  2022-07-02 17:37:06  Washington Pl & Broadway          5755.01   \n",
       "189140  2022-07-28 13:47:35           W 47 St & 6 Ave          6667.04   \n",
       "189146  2022-07-26 08:35:33      Hudson St & Reade St           5359.1   \n",
       "189147  2022-07-12 17:47:38        E 50 St & Park Ave           6659.1   \n",
       "\n",
       "                  end_station_name end_station_id  start_lat  start_lng  \\\n",
       "189136  7 Ave & Central Park South        6912.01  40.746920 -74.004519   \n",
       "189137  7 Ave & Central Park South        6912.01  40.729039 -73.994046   \n",
       "189140  7 Ave & Central Park South        6912.01  40.758397 -73.982550   \n",
       "189146  7 Ave & Central Park South        6912.01  40.716250 -74.009106   \n",
       "189147  7 Ave & Central Park South        6912.01  40.757334 -73.974235   \n",
       "\n",
       "          end_lat    end_lng member_casual   duration  \n",
       "189136  40.766741 -73.979069        casual  68.300000  \n",
       "189137  40.766741 -73.979069        member  26.983333  \n",
       "189140  40.766741 -73.979069        member   9.100000  \n",
       "189146  40.766741 -73.979069        member  36.900000  \n",
       "189147  40.766741 -73.979069        member  10.050000  "
      ]
     },
     "execution_count": 28,
     "metadata": {},
     "output_type": "execute_result"
    }
   ],
   "source": [
    "#Choose stations \n",
    "stations_df=durations_df[(durations_df['start_station_name']==\"7 Ave & Central Park South\") | \n",
    "                        (durations_df['end_station_name']==\"7 Ave & Central Park South\") |\n",
    "                        (durations_df['start_station_name']==\"E 17 St & Broadway\") |\n",
    "                        (durations_df['end_station_name']==\"E 17 St & Broadway\")|\n",
    "                        (durations_df['start_station_name']==\"W 21 St & 6 Ave\") | \n",
    "                        (durations_df['end_station_name']==\"W 21 St & 6 Ave\")]\n",
    "\n",
    "stations_df.head()"
   ]
  }
 ],
 "metadata": {
  "kernelspec": {
   "display_name": "Python 3.9.12 ('ECE5260')",
   "language": "python",
   "name": "python3"
  },
  "language_info": {
   "codemirror_mode": {
    "name": "ipython",
    "version": 3
   },
   "file_extension": ".py",
   "mimetype": "text/x-python",
   "name": "python",
   "nbconvert_exporter": "python",
   "pygments_lexer": "ipython3",
   "version": "3.9.12"
  },
  "orig_nbformat": 4,
  "vscode": {
   "interpreter": {
    "hash": "76a33d3d7216999da3b78ff763eb57d287db597217ee0040a7c79c5f8c324a68"
   }
  }
 },
 "nbformat": 4,
 "nbformat_minor": 2
}
